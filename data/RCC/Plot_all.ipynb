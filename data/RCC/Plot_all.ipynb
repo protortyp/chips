{
 "cells": [
  {
   "cell_type": "code",
   "execution_count": 1,
   "id": "d40124f0",
   "metadata": {},
   "outputs": [],
   "source": [
    "import sys\n",
    "import numpy\n",
    "numpy.set_printoptions(threshold=sys.maxsize)\n",
    "import numpy as np\n",
    "import copy\n",
    "#import torch\n",
    "#import torch.nn as nn\n",
    "from sklearn.metrics import auc, roc_auc_score, roc_curve\n",
    "import matplotlib.pyplot as plt\n",
    "import warnings\n",
    "warnings.filterwarnings(\"ignore\")"
   ]
  },
  {
   "cell_type": "code",
   "execution_count": 7,
   "id": "1d131def",
   "metadata": {},
   "outputs": [
    {
     "data": {
      "text/plain": [
       "<Figure size 432x288 with 0 Axes>"
      ]
     },
     "metadata": {},
     "output_type": "display_data"
    }
   ],
   "source": [
    "dirs = [\"512_runs\", \"2k_runs\", \"6k_runs\", \"6k_512_runs\", \"6k_2k_runs\"]   \n",
    "image_size = [\"Standard\", \"CHIPS-Medium\", \"CHIPS-Large\", \"CHIPS-Large Downsampled\\nto Standard\", \"CHIPS-Large Downsampled\\nto CHIPS-Medium\"]\n",
    "p_values = [\"p_0\"]\n",
    "fprs\n",
    "plt.rc('font',family='Times New Roman')\n",
    "\n",
    "for p_value in p_values:\n",
    "    for i, dir in enumerate(dirs):\n",
    "        fpr = np.insert(np.load(f\"{p_value}/{dir}/overall_macro_fpr.npy\"), 0, 0)\n",
    "        tpr = np.insert(np.load(f\"{p_value}/{dir}/overall_macro_tpr.npy\"), 0, 0)\n",
    "        plt.plot(fpr, tpr, label = f\"{image_size[i]}\", linewidth=2)\n",
    "\n",
    "    plt.legend(loc=\"lower right\", prop={'size': 6})\n",
    "    ax = plt.gca()\n",
    "    ax.set_xlim([-0.05, 1.05])\n",
    "    ax.set_ylim([-0.05, 1.05])\n",
    "    ax.set_aspect(1.0/ax.get_data_ratio(), adjustable='box')\n",
    "    plt.savefig(f\"pat_auc_macro_{p_value}.pdf\", format=\"pdf\", bbox_inches=\"tight\")\n",
    "    plt.clf()\n",
    "    \n",
    "    for i, dir in enumerate(dirs):\n",
    "        fpr = np.insert(np.load(f\"{p_value}/{dir}/overall_micro_fpr.npy\"), 0, 0)\n",
    "        tpr = np.insert(np.load(f\"{p_value}/{dir}/overall_micro_tpr.npy\"), 0, 0)\n",
    "        plt.plot(fpr, tpr, label = f\"{image_size[i]}\", linewidth=2)\n",
    "\n",
    "    plt.legend(loc=\"lower right\", prop={'size': 6})\n",
    "    ax = plt.gca()\n",
    "    ax.set_xlim([-0.05, 1.05])\n",
    "    ax.set_ylim([-0.05, 1.05])\n",
    "    ax.set_aspect(1.0/ax.get_data_ratio(), adjustable='box')\n",
    "    plt.savefig(f\"pat_auc_micro_{p_value}.pdf\", format=\"pdf\", bbox_inches=\"tight\")\n",
    "    plt.clf()"
   ]
  },
  {
   "cell_type": "markdown",
   "id": "4af78b49",
   "metadata": {},
   "source": [
    "Code to just get the legend:"
   ]
  },
  {
   "cell_type": "code",
   "execution_count": 10,
   "id": "045b057b",
   "metadata": {},
   "outputs": [
    {
     "data": {
      "text/plain": [
       "<Figure size 432x288 with 0 Axes>"
      ]
     },
     "metadata": {},
     "output_type": "display_data"
    }
   ],
   "source": [
    "dirs = [\"512_runs\", \"2k_runs\", \"6k_runs\", \"6k_512_runs\", \"6k_2k_runs\"]   \n",
    "image_size = [\"Standard\", \"CHIPS\", \"CHIPS-Large\", \"CHIPS-Medium Downsampled\\nto Standard\", \"CHIPS-Large Downsampled\\nto Standard\"]\n",
    "p_values = [\"p_0\", \"p_10\", \"p_25\"]\n",
    "plt.rc('font',family='Times New Roman')\n",
    "\n",
    "for p_value in p_values:\n",
    "    for i, dir in enumerate(dirs):\n",
    "        fpr = np.insert(np.load(f\"{p_value}/{dir}/overall_macro_fpr.npy\"), 0, 0)\n",
    "        tpr = np.insert(np.load(f\"{p_value}/{dir}/overall_macro_tpr.npy\"), 0, 0)\n",
    "        plt.plot(fpr, tpr, label = f\"{image_size[i]}\", linewidth=2)\n",
    "\n",
    "    plt.legend(loc=\"lower right\", prop={'size': 6})\n",
    "    ax = plt.gca()\n",
    "    ax.set_xlim([-0.05, 1.05])\n",
    "    ax.set_ylim([-0.05, 1.05])\n",
    "    ax.set_aspect(1.0/ax.get_data_ratio(), adjustable='box')\n",
    "    plt.savefig(f\"legend.pdf\", format=\"pdf\", bbox_inches=\"tight\")\n",
    "    plt.clf()"
   ]
  },
  {
   "cell_type": "markdown",
   "id": "8b029162",
   "metadata": {},
   "source": [
    "Code for bootstrap method"
   ]
  },
  {
   "cell_type": "code",
   "execution_count": null,
   "id": "5ef5e0e6",
   "metadata": {},
   "outputs": [],
   "source": [
    "import numpy as np\n",
    "from sklearn.metrics import roc_curve, auc\n",
    "\n",
    "def bootstrap_auc(y_true, y_pred, n_bootstraps=1000):\n",
    "    \"\"\"Computes the bootstrap AUC score.\n",
    "      Args:\n",
    "        y_true: The ground truth labels.\n",
    "        y_pred: The predicted probabilities.\n",
    "        n_bootstraps: The number of bootstraps to use.\n",
    "\n",
    "      Returns:\n",
    "        The bootstrap AUC score.\n",
    "      \"\"\"\n",
    "\n",
    "    auc_scores = []\n",
    "    for i in range(n_bootstraps):\n",
    "        # Sample with replacement.\n",
    "        idx = np.random.choice(len(y_true), len(y_true))\n",
    "        y_true_bootstrap = y_true[idx]\n",
    "        y_pred_bootstrap = y_pred[idx]\n",
    "\n",
    "        # Compute the AUC score for the bootstrap sample.\n",
    "        fpr, tpr, thresholds = roc_curve(y_true_bootstrap, y_pred_bootstrap)\n",
    "        auc_score = auc(fpr, tpr)\n",
    "\n",
    "        auc_scores.append(auc_score)\n",
    "\n",
    "    # Compute the mean and standard deviation of the bootstrap AUC scores.\n",
    "    mean_auc = np.mean(auc_scores)\n",
    "    std_auc = np.std(auc_scores)\n",
    "\n",
    "    return mean_auc, std_auc\n",
    "\n",
    "# Example usage:\n",
    "\n",
    "y_true = np.array([0, 0, 1, 1])\n",
    "y_pred = np.array([0.1, 0.4, 0.6, 0.9])\n",
    "\n",
    "mean_auc, std_auc = bootstrap_auc(y_true, y_pred)\n",
    "\n",
    "print(\"Mean AUC:\", mean_auc)\n",
    "print(\"Standard deviation:\", std_auc)"
   ]
  }
 ],
 "metadata": {
  "kernelspec": {
   "display_name": "Python 3 (ipykernel)",
   "language": "python",
   "name": "python3"
  },
  "language_info": {
   "codemirror_mode": {
    "name": "ipython",
    "version": 3
   },
   "file_extension": ".py",
   "mimetype": "text/x-python",
   "name": "python",
   "nbconvert_exporter": "python",
   "pygments_lexer": "ipython3",
   "version": "3.8.11"
  }
 },
 "nbformat": 4,
 "nbformat_minor": 5
}
